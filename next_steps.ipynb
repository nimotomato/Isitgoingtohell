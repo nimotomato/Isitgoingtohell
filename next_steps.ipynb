{
 "cells": [
  {
   "cell_type": "code",
   "execution_count": 7,
   "metadata": {},
   "outputs": [],
   "source": [
    "# Make sure the geography uploader doesn't upload duplicates."
   ]
  },
  {
   "cell_type": "code",
   "execution_count": 3,
   "metadata": {},
   "outputs": [
    {
     "data": {
      "text/plain": [
       "[{'region': 'africa',\n",
       "  'score': 0.7058824,\n",
       "  'calculation_date': '2022-11-18',\n",
       "  'number_of_labels': 34},\n",
       " {'region': 'asia',\n",
       "  'score': 0.3030303,\n",
       "  'calculation_date': '2022-11-18',\n",
       "  'number_of_labels': 33},\n",
       " {'region': 'europe',\n",
       "  'score': 0.54545456,\n",
       "  'calculation_date': '2022-11-18',\n",
       "  'number_of_labels': 66},\n",
       " {'region': 'north america',\n",
       "  'score': 0.33333334,\n",
       "  'calculation_date': '2022-11-18',\n",
       "  'number_of_labels': 12},\n",
       " {'region': 'oceania',\n",
       "  'score': 0.5882353,\n",
       "  'calculation_date': '2022-11-18',\n",
       "  'number_of_labels': 17},\n",
       " {'region': 'south america',\n",
       "  'score': 0.29411766,\n",
       "  'calculation_date': '2022-11-18',\n",
       "  'number_of_labels': 17}]"
      ]
     },
     "execution_count": 3,
     "metadata": {},
     "output_type": "execute_result"
    }
   ],
   "source": [
    "# Create support for TOTAL scores, i.e. summarized score for all regions over all time.\n",
    "from isitgoingtohell.data_management.db_management2 import Database as DB\n",
    "from isitgoingtohell.graph.graph2 import Dated_graph as DG\n",
    "from isitgoingtohell.graph.graph2 import Undated_graph as UG\n",
    "from isitgoingtohell.label_analysis.label_analysis import Undated_methods as UM\n",
    "from isitgoingtohell.label_analysis.label_analysis import Dated_methods as DM\n",
    "\n",
    "# REFACTORING ALMOST DONE. YOU ARE AT UPLOAD GEO DATA. \n"
   ]
  },
  {
   "cell_type": "code",
   "execution_count": null,
   "metadata": {},
   "outputs": [
    {
     "data": {
      "text/plain": [
       "3"
      ]
     },
     "execution_count": 1,
     "metadata": {},
     "output_type": "execute_result"
    }
   ],
   "source": [
    "\n",
    "\n",
    "data = [\n",
    "    {'region': 'africa', 'date': '2022-11-18', 'score': 0.5},\n",
    "    {'region': 'africa', 'date': '2022-11-19', 'score': 0.5882352941176471}, \n",
    "    {'region': 'asia', 'date': '2022-11-17', 'score': 0.3333333333333333}\n",
    "]\n",
    "columns = ['item', 'sd']\n",
    "groupings=['region','date']\n",
    "#da.calculate_ratio(groupings)\n",
    "len(data)\n"
   ]
  },
  {
   "cell_type": "code",
   "execution_count": null,
   "metadata": {},
   "outputs": [],
   "source": [
    "# Fix bug where country in Africa is France."
   ]
  },
  {
   "cell_type": "code",
   "execution_count": null,
   "metadata": {},
   "outputs": [],
   "source": [
    "# Prettify graph."
   ]
  },
  {
   "cell_type": "code",
   "execution_count": null,
   "metadata": {},
   "outputs": [],
   "source": [
    "# Create web-scrapers for more news-sites, matching output. I.e., scale it."
   ]
  }
 ],
 "metadata": {
  "kernelspec": {
   "display_name": "Python 3.9.5 ('isitgoingtohell-MGPO6GGl-py3.9')",
   "language": "python",
   "name": "python3"
  },
  "language_info": {
   "codemirror_mode": {
    "name": "ipython",
    "version": 3
   },
   "file_extension": ".py",
   "mimetype": "text/x-python",
   "name": "python",
   "nbconvert_exporter": "python",
   "pygments_lexer": "ipython3",
   "version": "3.9.5"
  },
  "orig_nbformat": 4,
  "vscode": {
   "interpreter": {
    "hash": "16f83e275f1c8afa461fe4b2dae5cce11a57691385ffb1f81aba5675b05e0586"
   }
  }
 },
 "nbformat": 4,
 "nbformat_minor": 2
}
