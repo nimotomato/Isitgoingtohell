{
 "cells": [
  {
   "cell_type": "code",
   "execution_count": 2,
   "metadata": {},
   "outputs": [
    {
     "name": "stderr",
     "output_type": "stream",
     "text": [
      "<>:9: SyntaxWarning: \"is not\" with a literal. Did you mean \"!=\"?\n",
      "<>:9: SyntaxWarning: \"is not\" with a literal. Did you mean \"!=\"?\n",
      "/tmp/ipykernel_1275/1774900952.py:9: SyntaxWarning: \"is not\" with a literal. Did you mean \"!=\"?\n",
      "  data = list(filter(lambda item: item is not 'removed', data))\n"
     ]
    }
   ],
   "source": [
    "# Make sure the geography uploader doesn't upload duplicates.\n",
    "from isitgoingtohell.utils import load_json\n",
    "import json\n",
    "\n",
    "path=\"cache.json\"\n",
    "\n",
    "with open(path, \"r\") as f:\n",
    "    data = json.load(f)\n",
    "    data = list(filter(lambda item: item['date'] is not 'removed', data))\n",
    "\n",
    "with open(\"mydata.json\", \"w\") as f:\n",
    "    json.dump(data, f, indent=1)\n",
    "\n",
    "#data\n"
   ]
  },
  {
   "cell_type": "code",
   "execution_count": 4,
   "metadata": {},
   "outputs": [
    {
     "name": "stderr",
     "output_type": "stream",
     "text": [
      "/home/martin/.cache/pypoetry/virtualenvs/isitgoingtohell-MGPO6GGl-py3.9/lib/python3.9/site-packages/tqdm/auto.py:22: TqdmWarning: IProgress not found. Please update jupyter and ipywidgets. See https://ipywidgets.readthedocs.io/en/stable/user_install.html\n",
      "  from .autonotebook import tqdm as notebook_tqdm\n"
     ]
    },
    {
     "ename": "KeyboardInterrupt",
     "evalue": "",
     "output_type": "error",
     "traceback": [
      "\u001b[0;31m---------------------------------------------------------------------------\u001b[0m",
      "\u001b[0;31mKeyboardInterrupt\u001b[0m                         Traceback (most recent call last)",
      "Cell \u001b[0;32mIn [4], line 5\u001b[0m\n\u001b[1;32m      3\u001b[0m \u001b[39mfrom\u001b[39;00m \u001b[39misitgoingtohell\u001b[39;00m\u001b[39m.\u001b[39;00m\u001b[39mlabel_analysis\u001b[39;00m\u001b[39m.\u001b[39;00m\u001b[39mlabel_analysis\u001b[39;00m \u001b[39mimport\u001b[39;00m Undated_methods \u001b[39mas\u001b[39;00m UM\n\u001b[1;32m      4\u001b[0m \u001b[39mfrom\u001b[39;00m \u001b[39misitgoingtohell\u001b[39;00m\u001b[39m.\u001b[39;00m\u001b[39mlabel_analysis\u001b[39;00m\u001b[39m.\u001b[39;00m\u001b[39mlabel_analysis\u001b[39;00m \u001b[39mimport\u001b[39;00m Dated_methods \u001b[39mas\u001b[39;00m DM\n\u001b[0;32m----> 5\u001b[0m \u001b[39mfrom\u001b[39;00m \u001b[39misitgoingtohell\u001b[39;00m\u001b[39m.\u001b[39;00m\u001b[39mgraph\u001b[39;00m\u001b[39m.\u001b[39;00m\u001b[39mgraph\u001b[39;00m \u001b[39mimport\u001b[39;00m Dated_graph\n\u001b[1;32m      6\u001b[0m dm \u001b[39m=\u001b[39m DM()\n\u001b[1;32m      7\u001b[0m um \u001b[39m=\u001b[39m UM()\n",
      "File \u001b[0;32m~/scraping/Isitgoingtohell/isitgoingtohell/graph/graph.py:4\u001b[0m\n\u001b[1;32m      2\u001b[0m \u001b[39mfrom\u001b[39;00m \u001b[39misitgoingtohell\u001b[39;00m\u001b[39m.\u001b[39;00m\u001b[39mlabel_analysis\u001b[39;00m\u001b[39m.\u001b[39;00m\u001b[39mlabel_analysis\u001b[39;00m \u001b[39mimport\u001b[39;00m Undated_methods \u001b[39mas\u001b[39;00m UM\n\u001b[1;32m      3\u001b[0m \u001b[39mfrom\u001b[39;00m \u001b[39misitgoingtohell\u001b[39;00m\u001b[39m.\u001b[39;00m\u001b[39mutils\u001b[39;00m \u001b[39mimport\u001b[39;00m load_csv\n\u001b[0;32m----> 4\u001b[0m \u001b[39mimport\u001b[39;00m \u001b[39mplotly\u001b[39;00m\u001b[39m.\u001b[39;00m\u001b[39mexpress\u001b[39;00m \u001b[39mas\u001b[39;00m \u001b[39mpx\u001b[39;00m\n\u001b[1;32m      5\u001b[0m \u001b[39mimport\u001b[39;00m \u001b[39mpandas\u001b[39;00m \u001b[39mas\u001b[39;00m \u001b[39mpd\u001b[39;00m\n\u001b[1;32m      8\u001b[0m \u001b[39mclass\u001b[39;00m \u001b[39mGraph\u001b[39;00m():\n",
      "File \u001b[0;32m~/.cache/pypoetry/virtualenvs/isitgoingtohell-MGPO6GGl-py3.9/lib/python3.9/site-packages/plotly/express/__init__.py:15\u001b[0m\n\u001b[1;32m      9\u001b[0m \u001b[39mif\u001b[39;00m pd \u001b[39mis\u001b[39;00m \u001b[39mNone\u001b[39;00m:\n\u001b[1;32m     10\u001b[0m     \u001b[39mraise\u001b[39;00m \u001b[39mImportError\u001b[39;00m(\n\u001b[1;32m     11\u001b[0m         \u001b[39m\"\"\"\\\u001b[39;00m\n\u001b[1;32m     12\u001b[0m \u001b[39mPlotly express requires pandas to be installed.\"\"\"\u001b[39;00m\n\u001b[1;32m     13\u001b[0m     )\n\u001b[0;32m---> 15\u001b[0m \u001b[39mfrom\u001b[39;00m \u001b[39m.\u001b[39;00m\u001b[39m_imshow\u001b[39;00m \u001b[39mimport\u001b[39;00m imshow\n\u001b[1;32m     16\u001b[0m \u001b[39mfrom\u001b[39;00m \u001b[39m.\u001b[39;00m\u001b[39m_chart_types\u001b[39;00m \u001b[39mimport\u001b[39;00m (  \u001b[39m# noqa: F401\u001b[39;00m\n\u001b[1;32m     17\u001b[0m     scatter,\n\u001b[1;32m     18\u001b[0m     scatter_3d,\n\u001b[0;32m   (...)\u001b[0m\n\u001b[1;32m     51\u001b[0m     density_mapbox,\n\u001b[1;32m     52\u001b[0m )\n\u001b[1;32m     55\u001b[0m \u001b[39mfrom\u001b[39;00m \u001b[39m.\u001b[39;00m\u001b[39m_core\u001b[39;00m \u001b[39mimport\u001b[39;00m (  \u001b[39m# noqa: F401\u001b[39;00m\n\u001b[1;32m     56\u001b[0m     set_mapbox_access_token,\n\u001b[1;32m     57\u001b[0m     defaults,\n\u001b[1;32m     58\u001b[0m     get_trendline_results,\n\u001b[1;32m     59\u001b[0m     NO_COLOR,\n\u001b[1;32m     60\u001b[0m )\n",
      "File \u001b[0;32m~/.cache/pypoetry/virtualenvs/isitgoingtohell-MGPO6GGl-py3.9/lib/python3.9/site-packages/plotly/express/_imshow.py:3\u001b[0m\n\u001b[1;32m      1\u001b[0m \u001b[39mimport\u001b[39;00m \u001b[39mplotly\u001b[39;00m\u001b[39m.\u001b[39;00m\u001b[39mgraph_objs\u001b[39;00m \u001b[39mas\u001b[39;00m \u001b[39mgo\u001b[39;00m\n\u001b[1;32m      2\u001b[0m \u001b[39mfrom\u001b[39;00m \u001b[39m_plotly_utils\u001b[39;00m\u001b[39m.\u001b[39;00m\u001b[39mbasevalidators\u001b[39;00m \u001b[39mimport\u001b[39;00m ColorscaleValidator\n\u001b[0;32m----> 3\u001b[0m \u001b[39mfrom\u001b[39;00m \u001b[39m.\u001b[39;00m\u001b[39m_core\u001b[39;00m \u001b[39mimport\u001b[39;00m apply_default_cascade, init_figure, configure_animation_controls\n\u001b[1;32m      4\u001b[0m \u001b[39mfrom\u001b[39;00m \u001b[39m.\u001b[39;00m\u001b[39mimshow_utils\u001b[39;00m \u001b[39mimport\u001b[39;00m rescale_intensity, _integer_ranges, _integer_types\n\u001b[1;32m      5\u001b[0m \u001b[39mimport\u001b[39;00m \u001b[39mpandas\u001b[39;00m \u001b[39mas\u001b[39;00m \u001b[39mpd\u001b[39;00m\n",
      "File \u001b[0;32m~/.cache/pypoetry/virtualenvs/isitgoingtohell-MGPO6GGl-py3.9/lib/python3.9/site-packages/plotly/express/_core.py:43\u001b[0m\n\u001b[1;32m     33\u001b[0m renameable_group_attrables \u001b[39m=\u001b[39m [\n\u001b[1;32m     34\u001b[0m     \u001b[39m\"\u001b[39m\u001b[39mcolor\u001b[39m\u001b[39m\"\u001b[39m,  \u001b[39m# renamed to marker.color or line.color in infer_config\u001b[39;00m\n\u001b[1;32m     35\u001b[0m     \u001b[39m\"\u001b[39m\u001b[39msymbol\u001b[39m\u001b[39m\"\u001b[39m,  \u001b[39m# renamed to marker.symbol in infer_config\u001b[39;00m\n\u001b[1;32m     36\u001b[0m     \u001b[39m\"\u001b[39m\u001b[39mline_dash\u001b[39m\u001b[39m\"\u001b[39m,  \u001b[39m# renamed to line.dash in infer_config\u001b[39;00m\n\u001b[1;32m     37\u001b[0m     \u001b[39m\"\u001b[39m\u001b[39mpattern_shape\u001b[39m\u001b[39m\"\u001b[39m,  \u001b[39m# renamed to marker.pattern.shape in infer_config\u001b[39;00m\n\u001b[1;32m     38\u001b[0m ]\n\u001b[1;32m     39\u001b[0m all_attrables \u001b[39m=\u001b[39m (\n\u001b[1;32m     40\u001b[0m     direct_attrables \u001b[39m+\u001b[39m array_attrables \u001b[39m+\u001b[39m group_attrables \u001b[39m+\u001b[39m renameable_group_attrables\n\u001b[1;32m     41\u001b[0m )\n\u001b[0;32m---> 43\u001b[0m cartesians \u001b[39m=\u001b[39m [go\u001b[39m.\u001b[39mScatter, go\u001b[39m.\u001b[39mScattergl, go\u001b[39m.\u001b[39mBar, go\u001b[39m.\u001b[39;49mFunnel, go\u001b[39m.\u001b[39mBox, go\u001b[39m.\u001b[39mViolin]\n\u001b[1;32m     44\u001b[0m cartesians \u001b[39m+\u001b[39m\u001b[39m=\u001b[39m [go\u001b[39m.\u001b[39mHistogram, go\u001b[39m.\u001b[39mHistogram2d, go\u001b[39m.\u001b[39mHistogram2dContour]\n\u001b[1;32m     47\u001b[0m \u001b[39mclass\u001b[39;00m \u001b[39mPxDefaults\u001b[39;00m(\u001b[39mobject\u001b[39m):\n",
      "File \u001b[0;32m~/.cache/pypoetry/virtualenvs/isitgoingtohell-MGPO6GGl-py3.9/lib/python3.9/site-packages/plotly/graph_objs/__init__.py:299\u001b[0m, in \u001b[0;36m__getattr__\u001b[0;34m(import_name)\u001b[0m\n\u001b[1;32m    295\u001b[0m         \u001b[39mfrom\u001b[39;00m \u001b[39m.\u001b[39;00m\u001b[39m.\u001b[39;00m\u001b[39mmissing_ipywidgets\u001b[39;00m \u001b[39mimport\u001b[39;00m FigureWidget\n\u001b[1;32m    297\u001b[0m         \u001b[39mreturn\u001b[39;00m FigureWidget\n\u001b[0;32m--> 299\u001b[0m \u001b[39mreturn\u001b[39;00m orig_getattr(import_name)\n",
      "File \u001b[0;32m~/.cache/pypoetry/virtualenvs/isitgoingtohell-MGPO6GGl-py3.9/lib/python3.9/site-packages/_plotly_utils/importers.py:36\u001b[0m, in \u001b[0;36mrelative_import.<locals>.__getattr__\u001b[0;34m(import_name)\u001b[0m\n\u001b[1;32m     34\u001b[0m     rel_module \u001b[39m=\u001b[39m \u001b[39m\"\u001b[39m\u001b[39m.\u001b[39m\u001b[39m\"\u001b[39m\u001b[39m.\u001b[39mjoin(rel_path_parts[:\u001b[39m-\u001b[39m\u001b[39m1\u001b[39m])\n\u001b[1;32m     35\u001b[0m     class_name \u001b[39m=\u001b[39m import_name\n\u001b[0;32m---> 36\u001b[0m     class_module \u001b[39m=\u001b[39m importlib\u001b[39m.\u001b[39;49mimport_module(rel_module, parent_name)\n\u001b[1;32m     37\u001b[0m     \u001b[39mreturn\u001b[39;00m \u001b[39mgetattr\u001b[39m(class_module, class_name)\n\u001b[1;32m     39\u001b[0m \u001b[39mraise\u001b[39;00m \u001b[39mAttributeError\u001b[39;00m(\n\u001b[1;32m     40\u001b[0m     \u001b[39m\"\u001b[39m\u001b[39mmodule \u001b[39m\u001b[39m{__name__!r}\u001b[39;00m\u001b[39m has no attribute \u001b[39m\u001b[39m{name!r}\u001b[39;00m\u001b[39m\"\u001b[39m\u001b[39m.\u001b[39mformat(\n\u001b[1;32m     41\u001b[0m         name\u001b[39m=\u001b[39mimport_name, \u001b[39m__name__\u001b[39m\u001b[39m=\u001b[39mparent_name\n\u001b[1;32m     42\u001b[0m     )\n\u001b[1;32m     43\u001b[0m )\n",
      "File \u001b[0;32m/usr/lib/python3.9/importlib/__init__.py:127\u001b[0m, in \u001b[0;36mimport_module\u001b[0;34m(name, package)\u001b[0m\n\u001b[1;32m    125\u001b[0m             \u001b[39mbreak\u001b[39;00m\n\u001b[1;32m    126\u001b[0m         level \u001b[39m+\u001b[39m\u001b[39m=\u001b[39m \u001b[39m1\u001b[39m\n\u001b[0;32m--> 127\u001b[0m \u001b[39mreturn\u001b[39;00m _bootstrap\u001b[39m.\u001b[39;49m_gcd_import(name[level:], package, level)\n",
      "File \u001b[0;32m<frozen importlib._bootstrap>:1030\u001b[0m, in \u001b[0;36m_gcd_import\u001b[0;34m(name, package, level)\u001b[0m\n",
      "File \u001b[0;32m<frozen importlib._bootstrap>:1007\u001b[0m, in \u001b[0;36m_find_and_load\u001b[0;34m(name, import_)\u001b[0m\n",
      "File \u001b[0;32m<frozen importlib._bootstrap>:986\u001b[0m, in \u001b[0;36m_find_and_load_unlocked\u001b[0;34m(name, import_)\u001b[0m\n",
      "File \u001b[0;32m<frozen importlib._bootstrap>:680\u001b[0m, in \u001b[0;36m_load_unlocked\u001b[0;34m(spec)\u001b[0m\n",
      "File \u001b[0;32m<frozen importlib._bootstrap_external>:851\u001b[0m, in \u001b[0;36mexec_module\u001b[0;34m(self, module)\u001b[0m\n",
      "File \u001b[0;32m<frozen importlib._bootstrap_external>:983\u001b[0m, in \u001b[0;36mget_code\u001b[0;34m(self, fullname)\u001b[0m\n",
      "File \u001b[0;32m<frozen importlib._bootstrap_external>:647\u001b[0m, in \u001b[0;36m_compile_bytecode\u001b[0;34m(data, name, bytecode_path, source_path)\u001b[0m\n",
      "\u001b[0;31mKeyboardInterrupt\u001b[0m: "
     ]
    }
   ],
   "source": [
    "# Create support for TOTAL scores, i.e. summarized score for all regions over all time.\n",
    "from isitgoingtohell.data_management.db_management import Database as DB\n",
    "from isitgoingtohell.label_analysis.label_analysis import Undated_methods as UM\n",
    "from isitgoingtohell.label_analysis.label_analysis import Dated_methods as DM\n",
    "from isitgoingtohell.graph.graph import Dated_graph\n",
    "dm = DM()\n",
    "um = UM()\n",
    "db = DB()\n",
    "data = db.get_geography_data(dated=True)\n",
    "new = []\n",
    "dated = True\n",
    "for i in data:\n",
    "    if dated:\n",
    "        d={}\n",
    "        d['score'] = i[0]\n",
    "        d['date'] = i[1]\n",
    "        d['region'] = i[2]\n",
    "        new.append(d)\n",
    "    else:\n",
    "        d={}\n",
    "        d['region'] = i[0]\n",
    "        d['score'] = i[1]\n",
    "        d['calculation_date'] = i[2]\n",
    "        d['number_of_labels'] = i[3]\n",
    "        new.append(d)\n",
    "\n",
    "data = dm.map_all_regions_dated(new)\n",
    "graph = Dated_graph(data, data[0].keys())\n",
    "graph.draw_dated_choropleth()\n",
    "\n",
    "\n",
    "# cols = db.get_column_count(tablename='geography')\n",
    "# db.mogrify_data(data=data, number_of_columns=cols)\n",
    "\n",
    "\n",
    "#db.sort_geo_data_for_database(data, dated=True)\n",
    "\n",
    "# REFACTORING ALMOST DONE. YOU ARE AT UPLOAD GEO DATA. \n",
    "# Undated methods: Implement upload data. Also, implement ratio scoring using old scores.\n",
    "# Dated methods: Implement upload data. \n"
   ]
  },
  {
   "cell_type": "code",
   "execution_count": null,
   "metadata": {},
   "outputs": [
    {
     "data": {
      "text/plain": [
       "3"
      ]
     },
     "execution_count": 1,
     "metadata": {},
     "output_type": "execute_result"
    }
   ],
   "source": [
    "\n",
    "\n",
    "data = [\n",
    "    {'region': 'africa', 'date': '2022-11-18', 'score': 0.5},\n",
    "    {'region': 'africa', 'date': '2022-11-19', 'score': 0.5882352941176471}, \n",
    "    {'region': 'asia', 'date': '2022-11-17', 'score': 0.3333333333333333}\n",
    "]\n",
    "columns = ['item', 'sd']\n",
    "groupings=['region','date']\n",
    "#da.calculate_ratio(groupings)\n",
    "len(data)\n"
   ]
  },
  {
   "cell_type": "code",
   "execution_count": null,
   "metadata": {},
   "outputs": [],
   "source": [
    "# Fix bug where country in Africa is France."
   ]
  },
  {
   "cell_type": "code",
   "execution_count": null,
   "metadata": {},
   "outputs": [],
   "source": [
    "# Prettify graph."
   ]
  },
  {
   "cell_type": "code",
   "execution_count": null,
   "metadata": {},
   "outputs": [],
   "source": [
    "# Create web-scrapers for more news-sites, matching output. I.e., scale it."
   ]
  }
 ],
 "metadata": {
  "kernelspec": {
   "display_name": "Python 3.9.5 ('isitgoingtohell-MGPO6GGl-py3.9')",
   "language": "python",
   "name": "python3"
  },
  "language_info": {
   "codemirror_mode": {
    "name": "ipython",
    "version": 3
   },
   "file_extension": ".py",
   "mimetype": "text/x-python",
   "name": "python",
   "nbconvert_exporter": "python",
   "pygments_lexer": "ipython3",
   "version": "3.9.5"
  },
  "orig_nbformat": 4,
  "vscode": {
   "interpreter": {
    "hash": "16f83e275f1c8afa461fe4b2dae5cce11a57691385ffb1f81aba5675b05e0586"
   }
  }
 },
 "nbformat": 4,
 "nbformat_minor": 2
}
