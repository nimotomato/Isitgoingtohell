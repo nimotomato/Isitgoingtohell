{
 "cells": [
  {
   "cell_type": "code",
   "execution_count": 15,
   "metadata": {},
   "outputs": [],
   "source": [
    "import pandas as pd\n",
    "from isitgoingtohell.data_management.db_management import Database as DB\n",
    "from isitgoingtohell.label_analysis.label_analysis import Undated_methods as UM\n",
    "from isitgoingtohell.utils import load_csv, stringify_list, tuple_to_dict\n",
    "from datetime import date\n",
    "from isitgoingtohell.scrapers.pipelines import REGIONS\n",
    "db = DB()\n",
    "condition = \"set used = true where used = false\"\n",
    "db.update_one(condition=condition, tablename='data')\n",
    "db.close_connection(message=False)\n",
    "\n",
    "\n",
    "\n"
   ]
  },
  {
   "cell_type": "code",
   "execution_count": 37,
   "metadata": {},
   "outputs": [
    {
     "data": {
      "text/plain": [
       "[{'region': 'africa', 'score': 0.5166666666666667}]"
      ]
     },
     "execution_count": 37,
     "metadata": {},
     "output_type": "execute_result"
    }
   ],
   "source": [
    "old = [{'region': 'africa',\n",
    "  'score': 0.6551724137931034,\n",
    "  'calculation_date': '2022-12-30',\n",
    "  'number_of_labels': 29}]\n",
    "new = [{'region': 'africa',\n",
    "'score': 0.3870967741935484,\n",
    "'calculation_date': '2022-12-30',\n",
    "'number_of_labels': 31}]\n",
    "\n",
    "my_list=[]\n",
    "for item_old in old:\n",
    "    for item_new in new:\n",
    "      if item_old['region'] == item_new['region']:\n",
    "        new_item={}\n",
    "        new_item['region']=item_old['region']\n",
    "        score = (item_new['score']*item_new['number_of_labels'])+(item_old['score']*item_old['number_of_labels'])\n",
    "        count= item_new['number_of_labels']+item_old['number_of_labels']\n",
    "        new_item['score']=score/count\n",
    "        my_list.append(new_item)\n",
    "my_list\n"
   ]
  },
  {
   "cell_type": "code",
   "execution_count": null,
   "metadata": {},
   "outputs": [
    {
     "data": {
      "text/plain": [
       "3"
      ]
     },
     "execution_count": 1,
     "metadata": {},
     "output_type": "execute_result"
    }
   ],
   "source": [
    "\n",
    "\n",
    "data = [\n",
    "    {'region': 'africa', 'date': '2022-11-18', 'score': 0.5},\n",
    "    {'region': 'africa', 'date': '2022-11-19', 'score': 0.5882352941176471}, \n",
    "    {'region': 'asia', 'date': '2022-11-17', 'score': 0.3333333333333333}\n",
    "]\n",
    "columns = ['item', 'sd']\n",
    "groupings=['region','date']\n",
    "#da.calculate_ratio(groupings)\n",
    "len(data)\n"
   ]
  },
  {
   "cell_type": "code",
   "execution_count": null,
   "metadata": {},
   "outputs": [],
   "source": [
    "# Fix bug where country in Africa is France."
   ]
  },
  {
   "cell_type": "code",
   "execution_count": null,
   "metadata": {},
   "outputs": [],
   "source": [
    "# Prettify graph."
   ]
  },
  {
   "cell_type": "code",
   "execution_count": null,
   "metadata": {},
   "outputs": [],
   "source": [
    "# Create web-scrapers for more news-sites, matching output. I.e., scale it."
   ]
  }
 ],
 "metadata": {
  "kernelspec": {
   "display_name": "Python 3.9.5 ('isitgoingtohell-MGPO6GGl-py3.9')",
   "language": "python",
   "name": "python3"
  },
  "language_info": {
   "codemirror_mode": {
    "name": "ipython",
    "version": 3
   },
   "file_extension": ".py",
   "mimetype": "text/x-python",
   "name": "python",
   "nbconvert_exporter": "python",
   "pygments_lexer": "ipython3",
   "version": "3.9.5"
  },
  "orig_nbformat": 4,
  "vscode": {
   "interpreter": {
    "hash": "16f83e275f1c8afa461fe4b2dae5cce11a57691385ffb1f81aba5675b05e0586"
   }
  }
 },
 "nbformat": 4,
 "nbformat_minor": 2
}
