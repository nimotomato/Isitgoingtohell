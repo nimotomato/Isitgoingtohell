{
 "cells": [
  {
   "cell_type": "code",
   "execution_count": 1,
   "metadata": {},
   "outputs": [
    {
     "name": "stderr",
     "output_type": "stream",
     "text": [
      "/home/martin/.cache/pypoetry/virtualenvs/isitgoingtohell-MGPO6GGl-py3.9/lib/python3.9/site-packages/tqdm/auto.py:22: TqdmWarning: IProgress not found. Please update jupyter and ipywidgets. See https://ipywidgets.readthedocs.io/en/stable/user_install.html\n",
      "  from .autonotebook import tqdm as notebook_tqdm\n"
     ]
    },
    {
     "ename": "TypeError",
     "evalue": "sort_by_country_code() missing 1 required positional argument: 'region'",
     "output_type": "error",
     "traceback": [
      "\u001b[0;31m---------------------------------------------------------------------------\u001b[0m",
      "\u001b[0;31mTypeError\u001b[0m                                 Traceback (most recent call last)",
      "Cell \u001b[0;32mIn [1], line 47\u001b[0m\n\u001b[1;32m     45\u001b[0m populated_regions \u001b[39m=\u001b[39m []\n\u001b[1;32m     46\u001b[0m \u001b[39mfor\u001b[39;00m region \u001b[39min\u001b[39;00m REGIONS:\n\u001b[0;32m---> 47\u001b[0m     populated_regions\u001b[39m.\u001b[39mextend(sort_by_country_code(prod, region))\n\u001b[1;32m     49\u001b[0m populated_regions\n",
      "\u001b[0;31mTypeError\u001b[0m: sort_by_country_code() missing 1 required positional argument: 'region'"
     ]
    }
   ],
   "source": [
    "import pandas as pd\n",
    "from isitgoingtohell.data_management.db_management import Database as DB\n",
    "from isitgoingtohell.scrapers.pipelines import REGIONS\n",
    "from isitgoingtohell.utils import load_csv\n",
    "\n",
    "TABLENAME = 'data'\n",
    "db = DB()\n",
    "columns = ['date','region','label']\n",
    "query = f'SELECT {\",\".join(columns)} FROM {TABLENAME} WHERE label is not Null'\n",
    "db.cur.execute(query)\n",
    "sentiment_data = db.cur.fetchall()\n",
    "db.close_connection(message=False)\n",
    "country_codes = load_csv(\"only_codes.csv\")\n",
    "\n",
    "# Set up dataframe.\n",
    "df = pd.DataFrame(sentiment_data, columns=columns)\n",
    "groupings = ['region','date']\n",
    "ratio = (\n",
    "    df.replace('POSITIVE', 1)\n",
    "    .replace('NEGATIVE', 0)\n",
    "    .groupby(groupings)\n",
    "    .agg(sentiment_ratio=('label', 'mean'))\n",
    ")\n",
    "dict = ratio.to_dict()['sentiment_ratio']\n",
    "\n",
    "prod = [{'score': j, 'date': i[1], 'region': i[0]} for i, j in dict.items()]\n",
    "\n",
    "\n",
    "\n",
    "def sort_by_country_code(formated_ratios, region):\n",
    "    ratios_with_country_codes = []\n",
    "    for country in country_codes:\n",
    "        if country['region'].lower() == region:\n",
    "            for score in formated_ratios:\n",
    "                if score['region'] == region:\n",
    "                    item = {}\n",
    "                    item['country_code'] = country['code']\n",
    "                    item['score'] = score['score']\n",
    "                    item['date'] = score['date']\n",
    "                    item['region'] = score['region']\n",
    "                    ratios_with_country_codes.append(item)\n",
    "\n",
    "    return ratios_with_country_codes \n",
    "\n",
    "populated_regions = []\n",
    "for region in REGIONS:\n",
    "    populated_regions.extend(sort_by_country_code(prod, region))\n",
    "\n",
    "populated_regions"
   ]
  },
  {
   "cell_type": "code",
   "execution_count": 37,
   "metadata": {},
   "outputs": [
    {
     "data": {
      "text/plain": [
       "[{'region': 'africa', 'score': 0.5166666666666667}]"
      ]
     },
     "execution_count": 37,
     "metadata": {},
     "output_type": "execute_result"
    }
   ],
   "source": [
    "old = [{'region': 'africa',\n",
    "  'score': 0.6551724137931034,\n",
    "  'calculation_date': '2022-12-30',\n",
    "  'number_of_labels': 29}]\n",
    "new = [{'region': 'africa',\n",
    "'score': 0.3870967741935484,\n",
    "'calculation_date': '2022-12-30',\n",
    "'number_of_labels': 31}]\n",
    "\n",
    "my_list=[]\n",
    "for item_old in old:\n",
    "    for item_new in new:\n",
    "      if item_old['region'] == item_new['region']:\n",
    "        new_item={}\n",
    "        new_item['region']=item_old['region']\n",
    "        score = (item_new['score']*item_new['number_of_labels'])+(item_old['score']*item_old['number_of_labels'])\n",
    "        count= item_new['number_of_labels']+item_old['number_of_labels']\n",
    "        new_item['score']=score/count\n",
    "        my_list.append(new_item)\n",
    "my_list\n"
   ]
  },
  {
   "cell_type": "code",
   "execution_count": null,
   "metadata": {},
   "outputs": [
    {
     "data": {
      "text/plain": [
       "3"
      ]
     },
     "execution_count": 1,
     "metadata": {},
     "output_type": "execute_result"
    }
   ],
   "source": [
    "\n",
    "\n",
    "data = [\n",
    "    {'region': 'africa', 'date': '2022-11-18', 'score': 0.5},\n",
    "    {'region': 'africa', 'date': '2022-11-19', 'score': 0.5882352941176471}, \n",
    "    {'region': 'asia', 'date': '2022-11-17', 'score': 0.3333333333333333}\n",
    "]\n",
    "columns = ['item', 'sd']\n",
    "groupings=['region','date']\n",
    "#da.calculate_ratio(groupings)\n",
    "len(data)\n"
   ]
  },
  {
   "cell_type": "code",
   "execution_count": null,
   "metadata": {},
   "outputs": [],
   "source": [
    "# Fix bug where country in Africa is France."
   ]
  },
  {
   "cell_type": "code",
   "execution_count": null,
   "metadata": {},
   "outputs": [],
   "source": [
    "# Prettify graph."
   ]
  },
  {
   "cell_type": "code",
   "execution_count": null,
   "metadata": {},
   "outputs": [],
   "source": [
    "# Create web-scrapers for more news-sites, matching output. I.e., scale it."
   ]
  }
 ],
 "metadata": {
  "kernelspec": {
   "display_name": "Python 3.9.5 ('isitgoingtohell-MGPO6GGl-py3.9')",
   "language": "python",
   "name": "python3"
  },
  "language_info": {
   "codemirror_mode": {
    "name": "ipython",
    "version": 3
   },
   "file_extension": ".py",
   "mimetype": "text/x-python",
   "name": "python",
   "nbconvert_exporter": "python",
   "pygments_lexer": "ipython3",
   "version": "3.9.5"
  },
  "orig_nbformat": 4,
  "vscode": {
   "interpreter": {
    "hash": "16f83e275f1c8afa461fe4b2dae5cce11a57691385ffb1f81aba5675b05e0586"
   }
  }
 },
 "nbformat": 4,
 "nbformat_minor": 2
}
