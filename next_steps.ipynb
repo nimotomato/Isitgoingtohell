{
 "cells": [
  {
   "cell_type": "code",
   "execution_count": 7,
   "metadata": {},
   "outputs": [],
   "source": [
    "# Make sure the geography uploader doesn't upload duplicates."
   ]
  },
  {
   "cell_type": "code",
   "execution_count": 4,
   "metadata": {},
   "outputs": [
    {
     "data": {
      "text/plain": [
       "{'africa': 0.5733333333333334,\n",
       " 'asia': 0.3472222222222222,\n",
       " 'europe': 0.5426356589147286,\n",
       " 'north america': 0.46875,\n",
       " 'oceania': 0.5769230769230769,\n",
       " 'south america': 0.3333333333333333}"
      ]
     },
     "execution_count": 4,
     "metadata": {},
     "output_type": "execute_result"
    }
   ],
   "source": [
    "# Create support for TOTAL scores, i.e. summarized score for all regions over all time.\n",
    "from isitgoingtohell.data_management.db_management2 import Database as DB\n",
    "from isitgoingtohell.label_analysis.label_analysis import Undated_methods as UM\n",
    "from isitgoingtohell.label_analysis.label_analysis import Dated_methods as DM\n",
    "dm = DM()\n",
    "um = UM()\n",
    "db = DB()\n",
    "# data = dm.calculate_ratio_dated()\n",
    "# data = dm.pre_sort_scores_dated(data)\n",
    "# data = dm.map_all_regions_dated(data)\n",
    "# cols = db.get_column_count(tablename='geography')\n",
    "# db.mogrify_data(data=data, number_of_columns=cols)\n",
    "\n",
    "data = um.calculate_ratio_undated()\n",
    "data = um.pre_sort_scores_undated(data)\n",
    "data = um.add_metadata(data, database_object=db)\n",
    "#cols = db.get_column_count(tablename='geography_undated')\n",
    "#db.mogrify_data(data=data, number_of_columns=cols)\n",
    "data\n",
    "\n",
    "#db.sort_geo_data_for_database(data, dated=True)\n",
    "\n",
    "# REFACTORING ALMOST DONE. YOU ARE AT UPLOAD GEO DATA. \n",
    "# Undated methods: Implement upload data. Also, implement ratio scoring using old scores.\n",
    "# Dated methods: Implement upload data. \n"
   ]
  },
  {
   "cell_type": "code",
   "execution_count": null,
   "metadata": {},
   "outputs": [
    {
     "data": {
      "text/plain": [
       "3"
      ]
     },
     "execution_count": 1,
     "metadata": {},
     "output_type": "execute_result"
    }
   ],
   "source": [
    "\n",
    "\n",
    "data = [\n",
    "    {'region': 'africa', 'date': '2022-11-18', 'score': 0.5},\n",
    "    {'region': 'africa', 'date': '2022-11-19', 'score': 0.5882352941176471}, \n",
    "    {'region': 'asia', 'date': '2022-11-17', 'score': 0.3333333333333333}\n",
    "]\n",
    "columns = ['item', 'sd']\n",
    "groupings=['region','date']\n",
    "#da.calculate_ratio(groupings)\n",
    "len(data)\n"
   ]
  },
  {
   "cell_type": "code",
   "execution_count": null,
   "metadata": {},
   "outputs": [],
   "source": [
    "# Fix bug where country in Africa is France."
   ]
  },
  {
   "cell_type": "code",
   "execution_count": null,
   "metadata": {},
   "outputs": [],
   "source": [
    "# Prettify graph."
   ]
  },
  {
   "cell_type": "code",
   "execution_count": null,
   "metadata": {},
   "outputs": [],
   "source": [
    "# Create web-scrapers for more news-sites, matching output. I.e., scale it."
   ]
  }
 ],
 "metadata": {
  "kernelspec": {
   "display_name": "Python 3.9.5 ('isitgoingtohell-MGPO6GGl-py3.9')",
   "language": "python",
   "name": "python3"
  },
  "language_info": {
   "codemirror_mode": {
    "name": "ipython",
    "version": 3
   },
   "file_extension": ".py",
   "mimetype": "text/x-python",
   "name": "python",
   "nbconvert_exporter": "python",
   "pygments_lexer": "ipython3",
   "version": "3.9.5"
  },
  "orig_nbformat": 4,
  "vscode": {
   "interpreter": {
    "hash": "16f83e275f1c8afa461fe4b2dae5cce11a57691385ffb1f81aba5675b05e0586"
   }
  }
 },
 "nbformat": 4,
 "nbformat_minor": 2
}
