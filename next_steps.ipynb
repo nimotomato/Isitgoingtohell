{
 "cells": [
  {
   "cell_type": "code",
   "execution_count": 3,
   "metadata": {},
   "outputs": [
    {
     "data": {
      "text/html": [
       "<div>\n",
       "<style scoped>\n",
       "    .dataframe tbody tr th:only-of-type {\n",
       "        vertical-align: middle;\n",
       "    }\n",
       "\n",
       "    .dataframe tbody tr th {\n",
       "        vertical-align: top;\n",
       "    }\n",
       "\n",
       "    .dataframe thead th {\n",
       "        text-align: right;\n",
       "    }\n",
       "</style>\n",
       "<table border=\"1\" class=\"dataframe\">\n",
       "  <thead>\n",
       "    <tr style=\"text-align: right;\">\n",
       "      <th></th>\n",
       "      <th>date</th>\n",
       "      <th>region</th>\n",
       "      <th>label</th>\n",
       "    </tr>\n",
       "  </thead>\n",
       "  <tbody>\n",
       "    <tr>\n",
       "      <th>0</th>\n",
       "      <td>0.500000</td>\n",
       "      <td>2022-11-18</td>\n",
       "      <td>africa</td>\n",
       "    </tr>\n",
       "    <tr>\n",
       "      <th>1</th>\n",
       "      <td>0.578947</td>\n",
       "      <td>2022-11-19</td>\n",
       "      <td>africa</td>\n",
       "    </tr>\n",
       "    <tr>\n",
       "      <th>2</th>\n",
       "      <td>0.666667</td>\n",
       "      <td>2022-11-25</td>\n",
       "      <td>africa</td>\n",
       "    </tr>\n",
       "    <tr>\n",
       "      <th>3</th>\n",
       "      <td>0.566667</td>\n",
       "      <td>2022-11-26</td>\n",
       "      <td>africa</td>\n",
       "    </tr>\n",
       "    <tr>\n",
       "      <th>4</th>\n",
       "      <td>0.000000</td>\n",
       "      <td>2022-11-15</td>\n",
       "      <td>asia</td>\n",
       "    </tr>\n",
       "    <tr>\n",
       "      <th>...</th>\n",
       "      <td>...</td>\n",
       "      <td>...</td>\n",
       "      <td>...</td>\n",
       "    </tr>\n",
       "    <tr>\n",
       "      <th>225</th>\n",
       "      <td>0.363636</td>\n",
       "      <td>2022-11-19</td>\n",
       "      <td>south america</td>\n",
       "    </tr>\n",
       "    <tr>\n",
       "      <th>226</th>\n",
       "      <td>1.000000</td>\n",
       "      <td>2022-11-23</td>\n",
       "      <td>south america</td>\n",
       "    </tr>\n",
       "    <tr>\n",
       "      <th>227</th>\n",
       "      <td>0.000000</td>\n",
       "      <td>2022-11-24</td>\n",
       "      <td>south america</td>\n",
       "    </tr>\n",
       "    <tr>\n",
       "      <th>228</th>\n",
       "      <td>0.500000</td>\n",
       "      <td>2022-11-25</td>\n",
       "      <td>south america</td>\n",
       "    </tr>\n",
       "    <tr>\n",
       "      <th>229</th>\n",
       "      <td>0.500000</td>\n",
       "      <td>2022-11-26</td>\n",
       "      <td>south america</td>\n",
       "    </tr>\n",
       "  </tbody>\n",
       "</table>\n",
       "<p>230 rows × 3 columns</p>\n",
       "</div>"
      ],
      "text/plain": [
       "         date      region          label\n",
       "0    0.500000  2022-11-18         africa\n",
       "1    0.578947  2022-11-19         africa\n",
       "2    0.666667  2022-11-25         africa\n",
       "3    0.566667  2022-11-26         africa\n",
       "4    0.000000  2022-11-15           asia\n",
       "..        ...         ...            ...\n",
       "225  0.363636  2022-11-19  south america\n",
       "226  1.000000  2022-11-23  south america\n",
       "227  0.000000  2022-11-24  south america\n",
       "228  0.500000  2022-11-25  south america\n",
       "229  0.500000  2022-11-26  south america\n",
       "\n",
       "[230 rows x 3 columns]"
      ]
     },
     "execution_count": 3,
     "metadata": {},
     "output_type": "execute_result"
    }
   ],
   "source": [
    "import pandas as pd\n",
    "from isitgoingtohell.data_management.db_management import Database as DB\n",
    "from isitgoingtohell.scrapers.pipelines import REGIONS\n",
    "from isitgoingtohell.utils import load_csv\n",
    "from isitgoingtohell.graph.graph import Graph\n",
    "from isitgoingtohell.label_analysis.label_analysis import Statistics\n",
    "\n",
    "TABLENAME = 'geography'\n",
    "\n",
    "db = DB()\n",
    "query = f\"SELECT * FROM {TABLENAME} WHERE EXTRACT(MONTH FROM date) = 11 AND EXTRACT(YEAR FROM date) = 2022\"\n",
    "db.cur.execute(query)\n",
    "data = db.cur.fetchall()\n",
    "stats = Statistics(data)\n",
    "stats.dataframe"
   ]
  },
  {
   "cell_type": "code",
   "execution_count": null,
   "metadata": {},
   "outputs": [],
   "source": [
    "old = [{'region': 'africa',\n",
    "  'score': 0.6551724137931034,\n",
    "  'calculation_date': '2022-12-30',\n",
    "  'number_of_labels': 29}]\n",
    "new = [{'region': 'africa',\n",
    "'score': 0.3870967741935484,\n",
    "'calculation_date': '2022-12-30',\n",
    "'number_of_labels': 31}]\n",
    "\n",
    "my_list=[]\n",
    "for item_old in old:\n",
    "    for item_new in new:\n",
    "      if item_old['region'] == item_new['region']:\n",
    "        new_item={}\n",
    "        new_item['region']=item_old['region']\n",
    "        score = (item_new['score']*item_new['number_of_labels'])+(item_old['score']*item_old['number_of_labels'])\n",
    "        count= item_new['number_of_labels']+item_old['number_of_labels']\n",
    "        new_item['score']=score/count\n",
    "        my_list.append(new_item)\n",
    "my_list\n"
   ]
  },
  {
   "cell_type": "code",
   "execution_count": null,
   "metadata": {},
   "outputs": [],
   "source": [
    "\n",
    "\n",
    "data = [\n",
    "    {'region': 'africa', 'date': '2022-11-18', 'score': 0.5},\n",
    "    {'region': 'africa', 'date': '2022-11-19', 'score': 0.5882352941176471}, \n",
    "    {'region': 'asia', 'date': '2022-11-17', 'score': 0.3333333333333333}\n",
    "]\n",
    "columns = ['item', 'sd']\n",
    "groupings=['region','date']\n",
    "#da.calculate_ratio(groupings)\n",
    "len(data)\n"
   ]
  },
  {
   "cell_type": "code",
   "execution_count": null,
   "metadata": {},
   "outputs": [],
   "source": [
    "# Fix bug where country in Africa is France."
   ]
  },
  {
   "cell_type": "code",
   "execution_count": null,
   "metadata": {},
   "outputs": [],
   "source": [
    "# Prettify graph."
   ]
  },
  {
   "cell_type": "code",
   "execution_count": null,
   "metadata": {},
   "outputs": [],
   "source": [
    "# Create web-scrapers for more news-sites, matching output. I.e., scale it."
   ]
  }
 ],
 "metadata": {
  "kernelspec": {
   "display_name": "isitgoingtohell-MGPO6GGl-py3.9",
   "language": "python",
   "name": "python3"
  },
  "language_info": {
   "codemirror_mode": {
    "name": "ipython",
    "version": 3
   },
   "file_extension": ".py",
   "mimetype": "text/x-python",
   "name": "python",
   "nbconvert_exporter": "python",
   "pygments_lexer": "ipython3",
   "version": "3.9.5"
  },
  "orig_nbformat": 4,
  "vscode": {
   "interpreter": {
    "hash": "16f83e275f1c8afa461fe4b2dae5cce11a57691385ffb1f81aba5675b05e0586"
   }
  }
 },
 "nbformat": 4,
 "nbformat_minor": 2
}
