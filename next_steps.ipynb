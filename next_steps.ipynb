{
 "cells": [
  {
   "cell_type": "code",
   "execution_count": 7,
   "metadata": {},
   "outputs": [],
   "source": [
    "# Make sure the geography uploader doesn't upload duplicates."
   ]
  },
  {
   "cell_type": "code",
   "execution_count": 14,
   "metadata": {},
   "outputs": [
    {
     "data": {
      "text/plain": [
       "dict_keys(['country_code', 'score', 'date', 'region'])"
      ]
     },
     "execution_count": 14,
     "metadata": {},
     "output_type": "execute_result"
    }
   ],
   "source": [
    "# Create support for TOTAL scores, i.e. summarized score for all regions over all time.\n",
    "from isitgoingtohell.data_management.db_management import Database as DB\n",
    "from isitgoingtohell.label_analysis.label_analysis import Undated_methods as UM\n",
    "from isitgoingtohell.label_analysis.label_analysis import Dated_methods as DM\n",
    "from isitgoingtohell.graph.graph import Dated_graph\n",
    "dm = DM()\n",
    "um = UM()\n",
    "db = DB()\n",
    "data = db.get_geography_data(dated=True)\n",
    "new = []\n",
    "dated = True\n",
    "for i in data:\n",
    "    if dated:\n",
    "        d={}\n",
    "        d['score'] = i[0]\n",
    "        d['date'] = i[1]\n",
    "        d['region'] = i[2]\n",
    "        new.append(d)\n",
    "    else:\n",
    "        d={}\n",
    "        d['region'] = i[0]\n",
    "        d['score'] = i[1]\n",
    "        d['date'] = i[2]\n",
    "        d['number_of_labels'] = i[3]\n",
    "        new.append(d)\n",
    "\n",
    "data = dm.map_all_regions_dated(new)\n",
    "graph = Dated_graph(data, data[0].keys())\n",
    "graph.draw_dated_choropleth()\n",
    "\n",
    "\n",
    "# cols = db.get_column_count(tablename='geography')\n",
    "# db.mogrify_data(data=data, number_of_columns=cols)\n",
    "\n",
    "\n",
    "#db.sort_geo_data_for_database(data, dated=True)\n",
    "\n",
    "# REFACTORING ALMOST DONE. YOU ARE AT UPLOAD GEO DATA. \n",
    "# Undated methods: Implement upload data. Also, implement ratio scoring using old scores.\n",
    "# Dated methods: Implement upload data. \n"
   ]
  },
  {
   "cell_type": "code",
   "execution_count": null,
   "metadata": {},
   "outputs": [
    {
     "data": {
      "text/plain": [
       "3"
      ]
     },
     "execution_count": 1,
     "metadata": {},
     "output_type": "execute_result"
    }
   ],
   "source": [
    "\n",
    "\n",
    "data = [\n",
    "    {'region': 'africa', 'date': '2022-11-18', 'score': 0.5},\n",
    "    {'region': 'africa', 'date': '2022-11-19', 'score': 0.5882352941176471}, \n",
    "    {'region': 'asia', 'date': '2022-11-17', 'score': 0.3333333333333333}\n",
    "]\n",
    "columns = ['item', 'sd']\n",
    "groupings=['region','date']\n",
    "#da.calculate_ratio(groupings)\n",
    "len(data)\n"
   ]
  },
  {
   "cell_type": "code",
   "execution_count": null,
   "metadata": {},
   "outputs": [],
   "source": [
    "# Fix bug where country in Africa is France."
   ]
  },
  {
   "cell_type": "code",
   "execution_count": null,
   "metadata": {},
   "outputs": [],
   "source": [
    "# Prettify graph."
   ]
  },
  {
   "cell_type": "code",
   "execution_count": null,
   "metadata": {},
   "outputs": [],
   "source": [
    "# Create web-scrapers for more news-sites, matching output. I.e., scale it."
   ]
  }
 ],
 "metadata": {
  "kernelspec": {
   "display_name": "Python 3.9.5 ('isitgoingtohell-MGPO6GGl-py3.9')",
   "language": "python",
   "name": "python3"
  },
  "language_info": {
   "codemirror_mode": {
    "name": "ipython",
    "version": 3
   },
   "file_extension": ".py",
   "mimetype": "text/x-python",
   "name": "python",
   "nbconvert_exporter": "python",
   "pygments_lexer": "ipython3",
   "version": "3.9.5"
  },
  "orig_nbformat": 4,
  "vscode": {
   "interpreter": {
    "hash": "16f83e275f1c8afa461fe4b2dae5cce11a57691385ffb1f81aba5675b05e0586"
   }
  }
 },
 "nbformat": 4,
 "nbformat_minor": 2
}
